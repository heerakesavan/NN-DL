{
 "cells": [
  {
   "cell_type": "code",
   "execution_count": 1,
   "metadata": {},
   "outputs": [],
   "source": [
    "from skfeature.function.similarity_based import fisher_score"
   ]
  },
  {
   "cell_type": "code",
   "execution_count": 2,
   "metadata": {},
   "outputs": [],
   "source": [
    "import numpy as np\n",
    "import matplotlib.pyplot as plt\n",
    "import scipy.io\n",
    "import pandas as pd\n"
   ]
  },
  {
   "cell_type": "code",
   "execution_count": 3,
   "metadata": {},
   "outputs": [],
   "source": [
    "mat = scipy.io.loadmat(\"C:/Users/heera/OneDrive - Heerak/Desktop/WLDataAll.mat\")"
   ]
  },
  {
   "cell_type": "code",
   "execution_count": 4,
   "metadata": {},
   "outputs": [],
   "source": [
    "\n",
    "a=mat[\"data\"].T\n",
    "X=np.reshape(a,(-1,62,512))\n",
    "y= mat[\"label\"].T-1"
   ]
  },
  {
   "cell_type": "code",
   "execution_count": 5,
   "metadata": {},
   "outputs": [
    {
     "data": {
      "text/plain": [
       "(360, 62, 512)"
      ]
     },
     "execution_count": 5,
     "metadata": {},
     "output_type": "execute_result"
    }
   ],
   "source": [
    "X.shape"
   ]
  },
  {
   "cell_type": "code",
   "execution_count": 6,
   "metadata": {},
   "outputs": [
    {
     "data": {
      "text/plain": [
       "(360, 1)"
      ]
     },
     "execution_count": 6,
     "metadata": {},
     "output_type": "execute_result"
    }
   ],
   "source": [
    "y.shape"
   ]
  },
  {
   "cell_type": "code",
   "execution_count": 32,
   "metadata": {},
   "outputs": [
    {
     "data": {
      "text/plain": [
       "Text(0, 0.5, 'Amplitude')"
      ]
     },
     "execution_count": 32,
     "metadata": {},
     "output_type": "execute_result"
    },
    {
     "data": {
      "image/png": "[encoded data removed]",
      "text/plain": [
       "<Figure size 432x288 with 1 Axes>"
      ]
     },
     "metadata": {
      "needs_background": "light"
     },
     "output_type": "display_data"
    }
   ],
   "source": [
    "\n",
    "\n",
    "samplingFrequency   = 256;\n",
    "\n",
    " \n",
    "\n",
    "# At what intervals time points are sampled\n",
    "\n",
    "samplingInterval       = 1 / samplingFrequency;\n",
    "\n",
    "# Add the sine waves\n",
    "\n",
    "amplitude = X[0][0]\n",
    "\n",
    "\n",
    "# Frequency domain representation\n",
    "\n",
    "fourierTransform = np.fft.fft(amplitude)/len(amplitude)           # Normalize amplitude\n",
    "\n",
    "fourierTransform = fourierTransform[range(int(len(amplitude)/2))] # Exclude sampling frequency\n",
    "\n",
    " \n",
    "\n",
    "tpCount     = len(amplitude)\n",
    "\n",
    "values      = np.arange(int(tpCount/2))\n",
    "\n",
    "timePeriod  = tpCount/samplingFrequency\n",
    "\n",
    "frequencies = values/timePeriod\n",
    "\n",
    " \n",
    "\n",
    "# Frequency domain representation\n",
    "\n",
    "plt.title('Fourier transform depicting the frequency components')\n",
    "\n",
    " \n",
    "\n",
    "plt.plot(frequencies, abs(fourierTransform))\n",
    "\n",
    "plt.xlabel('Frequency')\n",
    "\n",
    "plt.ylabel('Amplitude')\n"
   ]
  },
  {
   "cell_type": "markdown",
   "metadata": {},
   "source": [
    "# Function to perform FFT on EEG Signals"
   ]
  },
  {
   "cell_type": "code",
   "execution_count": 33,
   "metadata": {},
   "outputs": [],
   "source": [
    "from scipy.fft import fft, ifft , fftfreq"
   ]
  },
  {
   "cell_type": "code",
   "execution_count": 9,
   "metadata": {},
   "outputs": [],
   "source": [
    "\n",
    "def get_fourier_transform(sampling_frequency, data_points):\n",
    "    amplitude = data_points             # X[0][1]\n",
    "    fourier_transform = np.fft.fft(amplitude)/len(amplitude)           # Normalize amplitude\n",
    "    fourier_transform = fourier_transform[range(int(len(amplitude)/2))] # Exclude sampling frequency\n",
    "    tpCount     = len(amplitude)\n",
    "    values      = np.arange(int(tpCount/2))\n",
    "    timePeriod  = tpCount/sampling_frequency\n",
    "    frequencies = values/timePeriod\n",
    "    return fourier_transform,frequencies\n",
    "\n",
    "\n",
    " \n",
    "    \n",
    "    "
   ]
  },
  {
   "cell_type": "markdown",
   "metadata": {},
   "source": [
    "# Get Power Features - Band Power and Relative band power for frequency 4~45 Hz"
   ]
  },
  {
   "cell_type": "code",
   "execution_count": 34,
   "metadata": {},
   "outputs": [],
   "source": [
    "def get_power_features(fourier_transform):\n",
    "    magnitude = abs(fourier_transform)\n",
    "    m=np.square(magnitude)\n",
    "    power = abs(m)\n",
    "#     power_delta=power[:9].mean()\n",
    "    power_theta=power[10:17].mean()\n",
    "    power_alpha=power[18:25].mean()\n",
    "    power_beta=power[26:61].mean()\n",
    "    power_gamma=power[62:91].mean()\n",
    "    total_power = power_theta + power_alpha + power_beta + power_gamma\n",
    "#     relative_power_delta = power_delta/total_power\n",
    "    relative_power_theta = power_theta/total_power\n",
    "    relative_power_alpha = power_alpha/total_power\n",
    "    relative_power_beta = power_beta/total_power\n",
    "    relative_power_gamma= power_gamma/total_power\n",
    "    return list((power_theta,power_alpha,power_beta,power_gamma,relative_power_theta,relative_power_alpha,relative_power_beta,relative_power_gamma))"
   ]
  },
  {
   "cell_type": "code",
   "execution_count": 35,
   "metadata": {},
   "outputs": [
    {
     "name": "stdout",
     "output_type": "stream",
     "text": [
      "[0.10654955525283656, 0.027994863245138894, 0.028261367478445005, 0.04453681309488269, 0.5138816419302006, 0.13501742223030455, 0.13630275498150857, 0.21479818085798616]\n"
     ]
    }
   ],
   "source": [
    "data_points = X[0][1]\n",
    "sampling_frequency   = 256\n",
    "fourier_transform,frequencies = get_fourier_transform(sampling_frequency,data_points)\n",
    "arr = get_power_features(fourier_transform)\n",
    "print(arr)"
   ]
  },
  {
   "cell_type": "markdown",
   "metadata": {},
   "source": [
    "# After extracting the features the number of data points reduced from 512 to 8"
   ]
  },
  {
   "cell_type": "code",
   "execution_count": 37,
   "metadata": {},
   "outputs": [
    {
     "data": {
      "text/plain": [
       "(360, 62, 512)"
      ]
     },
     "execution_count": 37,
     "metadata": {},
     "output_type": "execute_result"
    }
   ],
   "source": [
    "X.shape"
   ]
  },
  {
   "cell_type": "code",
   "execution_count": 38,
   "metadata": {},
   "outputs": [
    {
     "name": "stdout",
     "output_type": "stream",
     "text": [
      "(360, 62, 8)\n"
     ]
    }
   ],
   "source": [
    "reduced_data_points = []\n",
    "for sample in range(X.shape[0]):\n",
    "    channels_features = []\n",
    "    for channel in range(X.shape[1]):\n",
    "        data_points = X[sample][channel]\n",
    "        sampling_frequency   = 256\n",
    "        fourier_transform,frequencies = get_fourier_transform(sampling_frequency,data_points)\n",
    "        arr = get_power_features(fourier_transform)\n",
    "        channels_features.append(arr)\n",
    "    reduced_data_points.append(channels_features)\n",
    "print(np.array((reduced_data_points)).shape)\n"
   ]
  },
  {
   "cell_type": "markdown",
   "metadata": {},
   "source": [
    "# Split Data for Training"
   ]
  },
  {
   "cell_type": "code",
   "execution_count": 39,
   "metadata": {},
   "outputs": [],
   "source": [
    "from sklearn.model_selection import train_test_split"
   ]
  },
  {
   "cell_type": "code",
   "execution_count": 40,
   "metadata": {},
   "outputs": [
    {
     "data": {
      "text/plain": [
       "(360, 62, 8)"
      ]
     },
     "execution_count": 40,
     "metadata": {},
     "output_type": "execute_result"
    }
   ],
   "source": [
    "new_X = np.array((reduced_data_points))\n",
    "new_X.shape\n"
   ]
  },
  {
   "cell_type": "code",
   "execution_count": 41,
   "metadata": {},
   "outputs": [
    {
     "data": {
      "text/plain": [
       "(360, 496)"
      ]
     },
     "execution_count": 41,
     "metadata": {},
     "output_type": "execute_result"
    }
   ],
   "source": [
    "new_X = new_X.reshape(new_X.shape[0],-1)\n",
    "new_X.shape\n"
   ]
  },
  {
   "cell_type": "code",
   "execution_count": 42,
   "metadata": {},
   "outputs": [
    {
     "data": {
      "text/html": [
       "<div>\n",
       "<style scoped>\n",
       "    .dataframe tbody tr th:only-of-type {\n",
       "        vertical-align: middle;\n",
       "    }\n",
       "\n",
       "    .dataframe tbody tr th {\n",
       "        vertical-align: top;\n",
       "    }\n",
       "\n",
       "    .dataframe thead th {\n",
       "        text-align: right;\n",
       "    }\n",
       "</style>\n",
       "<table border=\"1\" class=\"dataframe\">\n",
       "  <thead>\n",
       "    <tr style=\"text-align: right;\">\n",
       "      <th></th>\n",
       "      <th>0</th>\n",
       "      <th>1</th>\n",
       "      <th>2</th>\n",
       "      <th>3</th>\n",
       "      <th>4</th>\n",
       "      <th>5</th>\n",
       "      <th>6</th>\n",
       "      <th>7</th>\n",
       "      <th>8</th>\n",
       "      <th>9</th>\n",
       "      <th>...</th>\n",
       "      <th>487</th>\n",
       "      <th>488</th>\n",
       "      <th>489</th>\n",
       "      <th>490</th>\n",
       "      <th>491</th>\n",
       "      <th>492</th>\n",
       "      <th>493</th>\n",
       "      <th>494</th>\n",
       "      <th>495</th>\n",
       "      <th>labels</th>\n",
       "    </tr>\n",
       "  </thead>\n",
       "  <tbody>\n",
       "    <tr>\n",
       "      <th>0</th>\n",
       "      <td>0.470893</td>\n",
       "      <td>0.127282</td>\n",
       "      <td>0.103117</td>\n",
       "      <td>0.072812</td>\n",
       "      <td>0.608307</td>\n",
       "      <td>0.164425</td>\n",
       "      <td>0.133208</td>\n",
       "      <td>0.094059</td>\n",
       "      <td>0.106550</td>\n",
       "      <td>0.027995</td>\n",
       "      <td>...</td>\n",
       "      <td>0.106306</td>\n",
       "      <td>0.143176</td>\n",
       "      <td>0.012645</td>\n",
       "      <td>0.065235</td>\n",
       "      <td>0.060555</td>\n",
       "      <td>0.508417</td>\n",
       "      <td>0.044903</td>\n",
       "      <td>0.231648</td>\n",
       "      <td>0.215031</td>\n",
       "      <td>0</td>\n",
       "    </tr>\n",
       "    <tr>\n",
       "      <th>1</th>\n",
       "      <td>0.060270</td>\n",
       "      <td>0.025298</td>\n",
       "      <td>0.075932</td>\n",
       "      <td>0.047196</td>\n",
       "      <td>0.288794</td>\n",
       "      <td>0.121221</td>\n",
       "      <td>0.363840</td>\n",
       "      <td>0.226146</td>\n",
       "      <td>0.197601</td>\n",
       "      <td>0.068702</td>\n",
       "      <td>...</td>\n",
       "      <td>0.174860</td>\n",
       "      <td>0.559286</td>\n",
       "      <td>0.161429</td>\n",
       "      <td>0.313540</td>\n",
       "      <td>0.169723</td>\n",
       "      <td>0.464532</td>\n",
       "      <td>0.134080</td>\n",
       "      <td>0.260420</td>\n",
       "      <td>0.140968</td>\n",
       "      <td>0</td>\n",
       "    </tr>\n",
       "    <tr>\n",
       "      <th>2</th>\n",
       "      <td>0.411585</td>\n",
       "      <td>0.076357</td>\n",
       "      <td>0.689160</td>\n",
       "      <td>0.314281</td>\n",
       "      <td>0.275975</td>\n",
       "      <td>0.051199</td>\n",
       "      <td>0.462094</td>\n",
       "      <td>0.210731</td>\n",
       "      <td>0.128580</td>\n",
       "      <td>0.057579</td>\n",
       "      <td>...</td>\n",
       "      <td>0.129618</td>\n",
       "      <td>0.032321</td>\n",
       "      <td>0.014492</td>\n",
       "      <td>0.021681</td>\n",
       "      <td>0.013243</td>\n",
       "      <td>0.395427</td>\n",
       "      <td>0.177302</td>\n",
       "      <td>0.265253</td>\n",
       "      <td>0.162018</td>\n",
       "      <td>0</td>\n",
       "    </tr>\n",
       "    <tr>\n",
       "      <th>3</th>\n",
       "      <td>0.041405</td>\n",
       "      <td>0.030127</td>\n",
       "      <td>0.025009</td>\n",
       "      <td>0.025875</td>\n",
       "      <td>0.338229</td>\n",
       "      <td>0.246107</td>\n",
       "      <td>0.204297</td>\n",
       "      <td>0.211366</td>\n",
       "      <td>0.209727</td>\n",
       "      <td>0.024611</td>\n",
       "      <td>...</td>\n",
       "      <td>0.202583</td>\n",
       "      <td>0.015745</td>\n",
       "      <td>0.021829</td>\n",
       "      <td>0.086657</td>\n",
       "      <td>0.051535</td>\n",
       "      <td>0.089580</td>\n",
       "      <td>0.124195</td>\n",
       "      <td>0.493022</td>\n",
       "      <td>0.293203</td>\n",
       "      <td>0</td>\n",
       "    </tr>\n",
       "    <tr>\n",
       "      <th>4</th>\n",
       "      <td>0.242024</td>\n",
       "      <td>0.071124</td>\n",
       "      <td>0.115868</td>\n",
       "      <td>0.059681</td>\n",
       "      <td>0.495243</td>\n",
       "      <td>0.145538</td>\n",
       "      <td>0.237096</td>\n",
       "      <td>0.122123</td>\n",
       "      <td>0.824962</td>\n",
       "      <td>0.071918</td>\n",
       "      <td>...</td>\n",
       "      <td>0.186033</td>\n",
       "      <td>0.302745</td>\n",
       "      <td>0.044107</td>\n",
       "      <td>0.399486</td>\n",
       "      <td>0.224286</td>\n",
       "      <td>0.311908</td>\n",
       "      <td>0.045442</td>\n",
       "      <td>0.411577</td>\n",
       "      <td>0.231074</td>\n",
       "      <td>0</td>\n",
       "    </tr>\n",
       "  </tbody>\n",
       "</table>\n",
       "<p>5 rows × 497 columns</p>\n",
       "</div>"
      ],
      "text/plain": [
       "          0         1         2         3         4         5         6  \\\n",
       "0  0.470893  0.127282  0.103117  0.072812  0.608307  0.164425  0.133208   \n",
       "1  0.060270  0.025298  0.075932  0.047196  0.288794  0.121221  0.363840   \n",
       "2  0.411585  0.076357  0.689160  0.314281  0.275975  0.051199  0.462094   \n",
       "3  0.041405  0.030127  0.025009  0.025875  0.338229  0.246107  0.204297   \n",
       "4  0.242024  0.071124  0.115868  0.059681  0.495243  0.145538  0.237096   \n",
       "\n",
       "          7         8         9  ...       487       488       489       490  \\\n",
       "0  0.094059  0.106550  0.027995  ...  0.106306  0.143176  0.012645  0.065235   \n",
       "1  0.226146  0.197601  0.068702  ...  0.174860  0.559286  0.161429  0.313540   \n",
       "2  0.210731  0.128580  0.057579  ...  0.129618  0.032321  0.014492  0.021681   \n",
       "3  0.211366  0.209727  0.024611  ...  0.202583  0.015745  0.021829  0.086657   \n",
       "4  0.122123  0.824962  0.071918  ...  0.186033  0.302745  0.044107  0.399486   \n",
       "\n",
       "        491       492       493       494       495  labels  \n",
       "0  0.060555  0.508417  0.044903  0.231648  0.215031       0  \n",
       "1  0.169723  0.464532  0.134080  0.260420  0.140968       0  \n",
       "2  0.013243  0.395427  0.177302  0.265253  0.162018       0  \n",
       "3  0.051535  0.089580  0.124195  0.493022  0.293203       0  \n",
       "4  0.224286  0.311908  0.045442  0.411577  0.231074       0  \n",
       "\n",
       "[5 rows x 497 columns]"
      ]
     },
     "execution_count": 42,
     "metadata": {},
     "output_type": "execute_result"
    }
   ],
   "source": [
    "\n",
    "df=pd.DataFrame(new_X)\n",
    "df[\"labels\"]= y\n",
    "\n",
    "df.head()"
   ]
  },
  {
   "cell_type": "code",
   "execution_count": 43,
   "metadata": {},
   "outputs": [
    {
     "data": {
      "text/plain": [
       "0.0"
      ]
     },
     "execution_count": 43,
     "metadata": {},
     "output_type": "execute_result"
    }
   ],
   "source": [
    "df.values[:,-1][0]"
   ]
  },
  {
   "cell_type": "code",
   "execution_count": 44,
   "metadata": {},
   "outputs": [],
   "source": [
    "df.to_csv(\"reduced_features.csv\",index = False)\n"
   ]
  },
  {
   "cell_type": "markdown",
   "metadata": {},
   "source": [
    "# Writing to CSV the reduced features"
   ]
  },
  {
   "cell_type": "code",
   "execution_count": 46,
   "metadata": {},
   "outputs": [
    {
     "data": {
      "text/html": [
       "<div>\n",
       "<style scoped>\n",
       "    .dataframe tbody tr th:only-of-type {\n",
       "        vertical-align: middle;\n",
       "    }\n",
       "\n",
       "    .dataframe tbody tr th {\n",
       "        vertical-align: top;\n",
       "    }\n",
       "\n",
       "    .dataframe thead th {\n",
       "        text-align: right;\n",
       "    }\n",
       "</style>\n",
       "<table border=\"1\" class=\"dataframe\">\n",
       "  <thead>\n",
       "    <tr style=\"text-align: right;\">\n",
       "      <th></th>\n",
       "      <th>0</th>\n",
       "      <th>1</th>\n",
       "      <th>2</th>\n",
       "      <th>3</th>\n",
       "      <th>4</th>\n",
       "      <th>5</th>\n",
       "      <th>6</th>\n",
       "      <th>7</th>\n",
       "      <th>8</th>\n",
       "      <th>9</th>\n",
       "      <th>...</th>\n",
       "      <th>487</th>\n",
       "      <th>488</th>\n",
       "      <th>489</th>\n",
       "      <th>490</th>\n",
       "      <th>491</th>\n",
       "      <th>492</th>\n",
       "      <th>493</th>\n",
       "      <th>494</th>\n",
       "      <th>495</th>\n",
       "      <th>labels</th>\n",
       "    </tr>\n",
       "  </thead>\n",
       "  <tbody>\n",
       "    <tr>\n",
       "      <th>0</th>\n",
       "      <td>0.470893</td>\n",
       "      <td>0.127282</td>\n",
       "      <td>0.103117</td>\n",
       "      <td>0.072812</td>\n",
       "      <td>0.608307</td>\n",
       "      <td>0.164425</td>\n",
       "      <td>0.133208</td>\n",
       "      <td>0.094059</td>\n",
       "      <td>0.106550</td>\n",
       "      <td>0.027995</td>\n",
       "      <td>...</td>\n",
       "      <td>0.106306</td>\n",
       "      <td>0.143176</td>\n",
       "      <td>0.012645</td>\n",
       "      <td>0.065235</td>\n",
       "      <td>0.060555</td>\n",
       "      <td>0.508417</td>\n",
       "      <td>0.044903</td>\n",
       "      <td>0.231648</td>\n",
       "      <td>0.215031</td>\n",
       "      <td>0</td>\n",
       "    </tr>\n",
       "    <tr>\n",
       "      <th>1</th>\n",
       "      <td>0.060270</td>\n",
       "      <td>0.025298</td>\n",
       "      <td>0.075932</td>\n",
       "      <td>0.047196</td>\n",
       "      <td>0.288794</td>\n",
       "      <td>0.121221</td>\n",
       "      <td>0.363840</td>\n",
       "      <td>0.226146</td>\n",
       "      <td>0.197601</td>\n",
       "      <td>0.068702</td>\n",
       "      <td>...</td>\n",
       "      <td>0.174860</td>\n",
       "      <td>0.559286</td>\n",
       "      <td>0.161429</td>\n",
       "      <td>0.313540</td>\n",
       "      <td>0.169723</td>\n",
       "      <td>0.464532</td>\n",
       "      <td>0.134080</td>\n",
       "      <td>0.260420</td>\n",
       "      <td>0.140968</td>\n",
       "      <td>0</td>\n",
       "    </tr>\n",
       "    <tr>\n",
       "      <th>2</th>\n",
       "      <td>0.411585</td>\n",
       "      <td>0.076357</td>\n",
       "      <td>0.689160</td>\n",
       "      <td>0.314281</td>\n",
       "      <td>0.275975</td>\n",
       "      <td>0.051199</td>\n",
       "      <td>0.462094</td>\n",
       "      <td>0.210731</td>\n",
       "      <td>0.128580</td>\n",
       "      <td>0.057579</td>\n",
       "      <td>...</td>\n",
       "      <td>0.129618</td>\n",
       "      <td>0.032321</td>\n",
       "      <td>0.014492</td>\n",
       "      <td>0.021681</td>\n",
       "      <td>0.013243</td>\n",
       "      <td>0.395427</td>\n",
       "      <td>0.177302</td>\n",
       "      <td>0.265253</td>\n",
       "      <td>0.162018</td>\n",
       "      <td>0</td>\n",
       "    </tr>\n",
       "    <tr>\n",
       "      <th>3</th>\n",
       "      <td>0.041405</td>\n",
       "      <td>0.030127</td>\n",
       "      <td>0.025009</td>\n",
       "      <td>0.025875</td>\n",
       "      <td>0.338229</td>\n",
       "      <td>0.246107</td>\n",
       "      <td>0.204297</td>\n",
       "      <td>0.211366</td>\n",
       "      <td>0.209727</td>\n",
       "      <td>0.024611</td>\n",
       "      <td>...</td>\n",
       "      <td>0.202583</td>\n",
       "      <td>0.015745</td>\n",
       "      <td>0.021829</td>\n",
       "      <td>0.086657</td>\n",
       "      <td>0.051535</td>\n",
       "      <td>0.089580</td>\n",
       "      <td>0.124195</td>\n",
       "      <td>0.493022</td>\n",
       "      <td>0.293203</td>\n",
       "      <td>0</td>\n",
       "    </tr>\n",
       "    <tr>\n",
       "      <th>4</th>\n",
       "      <td>0.242024</td>\n",
       "      <td>0.071124</td>\n",
       "      <td>0.115868</td>\n",
       "      <td>0.059681</td>\n",
       "      <td>0.495243</td>\n",
       "      <td>0.145538</td>\n",
       "      <td>0.237096</td>\n",
       "      <td>0.122123</td>\n",
       "      <td>0.824962</td>\n",
       "      <td>0.071918</td>\n",
       "      <td>...</td>\n",
       "      <td>0.186033</td>\n",
       "      <td>0.302745</td>\n",
       "      <td>0.044107</td>\n",
       "      <td>0.399486</td>\n",
       "      <td>0.224286</td>\n",
       "      <td>0.311908</td>\n",
       "      <td>0.045442</td>\n",
       "      <td>0.411577</td>\n",
       "      <td>0.231074</td>\n",
       "      <td>0</td>\n",
       "    </tr>\n",
       "    <tr>\n",
       "      <th>...</th>\n",
       "      <td>...</td>\n",
       "      <td>...</td>\n",
       "      <td>...</td>\n",
       "      <td>...</td>\n",
       "      <td>...</td>\n",
       "      <td>...</td>\n",
       "      <td>...</td>\n",
       "      <td>...</td>\n",
       "      <td>...</td>\n",
       "      <td>...</td>\n",
       "      <td>...</td>\n",
       "      <td>...</td>\n",
       "      <td>...</td>\n",
       "      <td>...</td>\n",
       "      <td>...</td>\n",
       "      <td>...</td>\n",
       "      <td>...</td>\n",
       "      <td>...</td>\n",
       "      <td>...</td>\n",
       "      <td>...</td>\n",
       "      <td>...</td>\n",
       "    </tr>\n",
       "    <tr>\n",
       "      <th>355</th>\n",
       "      <td>0.857354</td>\n",
       "      <td>0.360168</td>\n",
       "      <td>0.310896</td>\n",
       "      <td>0.217993</td>\n",
       "      <td>0.490923</td>\n",
       "      <td>0.206233</td>\n",
       "      <td>0.178020</td>\n",
       "      <td>0.124824</td>\n",
       "      <td>0.800389</td>\n",
       "      <td>0.709219</td>\n",
       "      <td>...</td>\n",
       "      <td>0.103294</td>\n",
       "      <td>71.089575</td>\n",
       "      <td>45.938825</td>\n",
       "      <td>15.586752</td>\n",
       "      <td>12.667320</td>\n",
       "      <td>0.489320</td>\n",
       "      <td>0.316203</td>\n",
       "      <td>0.107286</td>\n",
       "      <td>0.087191</td>\n",
       "      <td>1</td>\n",
       "    </tr>\n",
       "    <tr>\n",
       "      <th>356</th>\n",
       "      <td>60.545124</td>\n",
       "      <td>25.323040</td>\n",
       "      <td>12.981683</td>\n",
       "      <td>8.648859</td>\n",
       "      <td>0.563217</td>\n",
       "      <td>0.235566</td>\n",
       "      <td>0.120761</td>\n",
       "      <td>0.080455</td>\n",
       "      <td>53.357058</td>\n",
       "      <td>20.373275</td>\n",
       "      <td>...</td>\n",
       "      <td>0.080192</td>\n",
       "      <td>13.970617</td>\n",
       "      <td>3.202913</td>\n",
       "      <td>2.980639</td>\n",
       "      <td>1.794054</td>\n",
       "      <td>0.636526</td>\n",
       "      <td>0.145930</td>\n",
       "      <td>0.135803</td>\n",
       "      <td>0.081740</td>\n",
       "      <td>1</td>\n",
       "    </tr>\n",
       "    <tr>\n",
       "      <th>357</th>\n",
       "      <td>7.014134</td>\n",
       "      <td>1.773392</td>\n",
       "      <td>1.927239</td>\n",
       "      <td>1.659795</td>\n",
       "      <td>0.566819</td>\n",
       "      <td>0.143310</td>\n",
       "      <td>0.155742</td>\n",
       "      <td>0.134130</td>\n",
       "      <td>4.547264</td>\n",
       "      <td>2.622118</td>\n",
       "      <td>...</td>\n",
       "      <td>0.072105</td>\n",
       "      <td>1.309210</td>\n",
       "      <td>0.416925</td>\n",
       "      <td>0.270623</td>\n",
       "      <td>0.232664</td>\n",
       "      <td>0.587242</td>\n",
       "      <td>0.187010</td>\n",
       "      <td>0.121387</td>\n",
       "      <td>0.104361</td>\n",
       "      <td>1</td>\n",
       "    </tr>\n",
       "    <tr>\n",
       "      <th>358</th>\n",
       "      <td>1.519833</td>\n",
       "      <td>0.614975</td>\n",
       "      <td>0.466911</td>\n",
       "      <td>0.294081</td>\n",
       "      <td>0.524840</td>\n",
       "      <td>0.212368</td>\n",
       "      <td>0.161237</td>\n",
       "      <td>0.101554</td>\n",
       "      <td>2.800917</td>\n",
       "      <td>0.551473</td>\n",
       "      <td>...</td>\n",
       "      <td>0.081949</td>\n",
       "      <td>2.186391</td>\n",
       "      <td>0.672013</td>\n",
       "      <td>0.609623</td>\n",
       "      <td>0.478901</td>\n",
       "      <td>0.553947</td>\n",
       "      <td>0.170262</td>\n",
       "      <td>0.154455</td>\n",
       "      <td>0.121335</td>\n",
       "      <td>1</td>\n",
       "    </tr>\n",
       "    <tr>\n",
       "      <th>359</th>\n",
       "      <td>1.063785</td>\n",
       "      <td>0.635672</td>\n",
       "      <td>0.441493</td>\n",
       "      <td>0.353102</td>\n",
       "      <td>0.426529</td>\n",
       "      <td>0.254875</td>\n",
       "      <td>0.177018</td>\n",
       "      <td>0.141578</td>\n",
       "      <td>8.582439</td>\n",
       "      <td>5.183204</td>\n",
       "      <td>...</td>\n",
       "      <td>0.136075</td>\n",
       "      <td>8.564570</td>\n",
       "      <td>1.376437</td>\n",
       "      <td>2.197441</td>\n",
       "      <td>1.730516</td>\n",
       "      <td>0.617535</td>\n",
       "      <td>0.099246</td>\n",
       "      <td>0.158443</td>\n",
       "      <td>0.124776</td>\n",
       "      <td>1</td>\n",
       "    </tr>\n",
       "  </tbody>\n",
       "</table>\n",
       "<p>360 rows × 497 columns</p>\n",
       "</div>"
      ],
      "text/plain": [
       "             0          1          2         3         4         5         6  \\\n",
       "0     0.470893   0.127282   0.103117  0.072812  0.608307  0.164425  0.133208   \n",
       "1     0.060270   0.025298   0.075932  0.047196  0.288794  0.121221  0.363840   \n",
       "2     0.411585   0.076357   0.689160  0.314281  0.275975  0.051199  0.462094   \n",
       "3     0.041405   0.030127   0.025009  0.025875  0.338229  0.246107  0.204297   \n",
       "4     0.242024   0.071124   0.115868  0.059681  0.495243  0.145538  0.237096   \n",
       "..         ...        ...        ...       ...       ...       ...       ...   \n",
       "355   0.857354   0.360168   0.310896  0.217993  0.490923  0.206233  0.178020   \n",
       "356  60.545124  25.323040  12.981683  8.648859  0.563217  0.235566  0.120761   \n",
       "357   7.014134   1.773392   1.927239  1.659795  0.566819  0.143310  0.155742   \n",
       "358   1.519833   0.614975   0.466911  0.294081  0.524840  0.212368  0.161237   \n",
       "359   1.063785   0.635672   0.441493  0.353102  0.426529  0.254875  0.177018   \n",
       "\n",
       "            7          8          9  ...       487        488        489  \\\n",
       "0    0.094059   0.106550   0.027995  ...  0.106306   0.143176   0.012645   \n",
       "1    0.226146   0.197601   0.068702  ...  0.174860   0.559286   0.161429   \n",
       "2    0.210731   0.128580   0.057579  ...  0.129618   0.032321   0.014492   \n",
       "3    0.211366   0.209727   0.024611  ...  0.202583   0.015745   0.021829   \n",
       "4    0.122123   0.824962   0.071918  ...  0.186033   0.302745   0.044107   \n",
       "..        ...        ...        ...  ...       ...        ...        ...   \n",
       "355  0.124824   0.800389   0.709219  ...  0.103294  71.089575  45.938825   \n",
       "356  0.080455  53.357058  20.373275  ...  0.080192  13.970617   3.202913   \n",
       "357  0.134130   4.547264   2.622118  ...  0.072105   1.309210   0.416925   \n",
       "358  0.101554   2.800917   0.551473  ...  0.081949   2.186391   0.672013   \n",
       "359  0.141578   8.582439   5.183204  ...  0.136075   8.564570   1.376437   \n",
       "\n",
       "           490        491       492       493       494       495  labels  \n",
       "0     0.065235   0.060555  0.508417  0.044903  0.231648  0.215031       0  \n",
       "1     0.313540   0.169723  0.464532  0.134080  0.260420  0.140968       0  \n",
       "2     0.021681   0.013243  0.395427  0.177302  0.265253  0.162018       0  \n",
       "3     0.086657   0.051535  0.089580  0.124195  0.493022  0.293203       0  \n",
       "4     0.399486   0.224286  0.311908  0.045442  0.411577  0.231074       0  \n",
       "..         ...        ...       ...       ...       ...       ...     ...  \n",
       "355  15.586752  12.667320  0.489320  0.316203  0.107286  0.087191       1  \n",
       "356   2.980639   1.794054  0.636526  0.145930  0.135803  0.081740       1  \n",
       "357   0.270623   0.232664  0.587242  0.187010  0.121387  0.104361       1  \n",
       "358   0.609623   0.478901  0.553947  0.170262  0.154455  0.121335       1  \n",
       "359   2.197441   1.730516  0.617535  0.099246  0.158443  0.124776       1  \n",
       "\n",
       "[360 rows x 497 columns]"
      ]
     },
     "execution_count": 46,
     "metadata": {},
     "output_type": "execute_result"
    }
   ],
   "source": [
    "pd.read_csv(\"reduced_features.csv\" )"
   ]
  },
  {
   "cell_type": "code",
   "execution_count": 47,
   "metadata": {},
   "outputs": [],
   "source": [
    "X_train, X_test, Y_train, Y_test = train_test_split(new_X, y,test_size=0.3,random_state =6)"
   ]
  },
  {
   "cell_type": "code",
   "execution_count": 48,
   "metadata": {},
   "outputs": [
    {
     "name": "stdout",
     "output_type": "stream",
     "text": [
      "(252, 496)\n",
      "(108, 496)\n",
      "(252, 1)\n",
      "(108, 1)\n"
     ]
    }
   ],
   "source": [
    "print(X_train.shape)\n",
    "print(X_test.shape)\n",
    "print(Y_train.shape)\n",
    "print(Y_test.shape)"
   ]
  },
  {
   "cell_type": "code",
   "execution_count": 49,
   "metadata": {},
   "outputs": [
    {
     "data": {
      "text/plain": [
       "(array([0, 1], dtype=uint8), array([125, 127], dtype=int64))"
      ]
     },
     "execution_count": 49,
     "metadata": {},
     "output_type": "execute_result"
    }
   ],
   "source": [
    "np.unique(Y_train,return_counts=True)"
   ]
  },
  {
   "cell_type": "code",
   "execution_count": 50,
   "metadata": {},
   "outputs": [
    {
     "data": {
      "text/plain": [
       "(array([0, 1], dtype=uint8), array([55, 53], dtype=int64))"
      ]
     },
     "execution_count": 50,
     "metadata": {},
     "output_type": "execute_result"
    }
   ],
   "source": [
    "np.unique(Y_test,return_counts=True)"
   ]
  },
  {
   "cell_type": "markdown",
   "metadata": {},
   "source": [
    "# Logistic Model from Scratch"
   ]
  },
  {
   "cell_type": "markdown",
   "metadata": {},
   "source": [
    "# Weight Initialization"
   ]
  },
  {
   "cell_type": "code",
   "execution_count": 26,
   "metadata": {},
   "outputs": [],
   "source": [
    "\n",
    "def weightInitialization(n_features):\n",
    "    w = np.zeros((1,n_features))\n",
    "    b = 0\n",
    "    return w,b"
   ]
  },
  {
   "cell_type": "markdown",
   "metadata": {},
   "source": [
    "# Implement Sigmoid Function"
   ]
  },
  {
   "cell_type": "code",
   "execution_count": 27,
   "metadata": {},
   "outputs": [],
   "source": [
    "def sigmoid_activation(result):\n",
    "    final_result = 1/(1+np.exp(-result))\n",
    "    return final_result\n"
   ]
  },
  {
   "cell_type": "markdown",
   "metadata": {},
   "source": [
    "# Implement forward and backward propagation"
   ]
  },
  {
   "cell_type": "code",
   "execution_count": 51,
   "metadata": {},
   "outputs": [],
   "source": [
    "def model_optimize(w, b, X, Y):\n",
    "    m = X.shape[0]\n",
    "    \n",
    "    #Forward propagation\n",
    "    final_result = sigmoid_activation(np.dot(w,X.T)+b)\n",
    "    Y_T = Y.T\n",
    "    cost = (-1/m)*(np.sum((Y_T*np.log(final_result)) + ((1-Y_T)*(np.log(1-final_result)))))\n",
    "    #\n",
    "    \n",
    "    #Backward propagation\n",
    "    dw = (1/m)*(np.dot(X.T, (final_result-Y.T).T))\n",
    "    db = (1/m)*(np.sum(final_result-Y.T))\n",
    "    \n",
    "    grads = {\"dw\": dw, \"db\": db}\n",
    "    \n",
    "    return grads, cost"
   ]
  },
  {
   "cell_type": "markdown",
   "metadata": {},
   "source": [
    "# Update Parameters"
   ]
  },
  {
   "cell_type": "code",
   "execution_count": 52,
   "metadata": {},
   "outputs": [],
   "source": [
    "def model_predict(w, b, X, Y, learning_rate, no_iterations):\n",
    "    costs = []\n",
    "    for i in range(no_iterations):\n",
    "        #\n",
    "        grads, cost = model_optimize(w,b,X,Y)\n",
    "        #\n",
    "        dw = grads[\"dw\"]\n",
    "        db = grads[\"db\"]\n",
    "        #weight update\n",
    "        w = w - (learning_rate * (dw.T))\n",
    "        b = b - (learning_rate * db)\n",
    "        #\n",
    "        \n",
    "        if (i % 100 == 0):\n",
    "            costs.append(cost)\n",
    "            #print(\"Cost after %i iteration is %f\" %(i, cost))\n",
    "    \n",
    "    #final parameters\n",
    "    coeff = {\"w\": w, \"b\": b}\n",
    "    gradient = {\"dw\": dw, \"db\": db}\n",
    "    \n",
    "    return coeff, gradient, costs"
   ]
  },
  {
   "cell_type": "code",
   "execution_count": 30,
   "metadata": {},
   "outputs": [],
   "source": [
    "def predict(final_pred, m):\n",
    "    y_pred = np.zeros((1,m))\n",
    "    for i in range(final_pred.shape[1]):\n",
    "        if final_pred[0][i] > 0.5:\n",
    "            y_pred[0][i] = 1\n",
    "    return y_pred"
   ]
  },
  {
   "cell_type": "markdown",
   "metadata": {},
   "source": [
    "# Model with 5 fold cross validation"
   ]
  },
  {
   "cell_type": "code",
   "execution_count": 53,
   "metadata": {},
   "outputs": [
    {
     "name": "stderr",
     "output_type": "stream",
     "text": [
      "C:\\Users\\heera\\anaconda3\\lib\\site-packages\\sklearn\\utils\\validation.py:67: FutureWarning: Pass shuffle=True, random_state=1 as keyword args. From version 0.25 passing these as positional arguments will result in an error\n",
      "  warnings.warn(\"Pass {} as keyword args. From version 0.25 \"\n"
     ]
    },
    {
     "name": "stdout",
     "output_type": "stream",
     "text": [
      "Number of Features 496\n",
      "Training Accuracy 0.8194444444444444\n",
      "Test Accuracy 0.5833333333333334\n",
      "Number of Features 496\n",
      "Training Accuracy 0.8020833333333334\n",
      "Test Accuracy 0.4861111111111111\n",
      "Number of Features 496\n",
      "Training Accuracy 0.8229166666666666\n",
      "Test Accuracy 0.5277777777777778\n",
      "Number of Features 496\n",
      "Training Accuracy 0.8680555555555556\n",
      "Test Accuracy 0.5555555555555556\n",
      "Number of Features 496\n",
      "Training Accuracy 0.8541666666666666\n",
      "Test Accuracy 0.4166666666666667\n"
     ]
    }
   ],
   "source": [
    "from sklearn.metrics import accuracy_score\n",
    "from sklearn.model_selection import KFold\n",
    "\n",
    "kfold = KFold(5, True, 1)\n",
    "\n",
    "for train_index, test_index in kfold.split(new_X):\n",
    "    X_train, X_test = new_X[train_index], new_X[test_index]\n",
    "    Y_train, Y_test = y[train_index], y[test_index]\n",
    "    #Get number of features\n",
    "    n_features = X_train.shape[1]\n",
    "    print('Number of Features', n_features)\n",
    "    w, b = weightInitialization(n_features)\n",
    "    #Gradient Descent\n",
    "    coeff, gradient, costs = model_predict(w, b, X_train, Y_train, learning_rate=0.01,no_iterations=3000)\n",
    "    #Final prediction\n",
    "    w = coeff[\"w\"]\n",
    "    b = coeff[\"b\"]\n",
    "#     print('Optimized weights', w)\n",
    "#     print('Optimized intercept',b)\n",
    "#     #\n",
    "    final_train_pred = sigmoid_activation(np.dot(w,X_train.T)+b)\n",
    "    final_test_pred = sigmoid_activation(np.dot(w,X_test.T)+b)\n",
    "    #\n",
    "    m_tr =  X_train.shape[0]\n",
    "    m_ts =  X_test.shape[0]\n",
    "    #\n",
    "    y_tr_pred = predict(final_train_pred, m_tr)\n",
    "    print('Training Accuracy',accuracy_score(y_tr_pred.T, Y_train))\n",
    "    #\n",
    "    y_ts_pred = predict(final_test_pred, m_ts)\n",
    "    print('Test Accuracy',accuracy_score(y_ts_pred.T, Y_test)) "
   ]
  },
  {
   "cell_type": "code",
   "execution_count": 54,
   "metadata": {},
   "outputs": [
    {
     "data": {
      "text/plain": [
       "[0.6931471805599453,\n",
       " 0.5609077438419493,\n",
       " 0.5395705782072152,\n",
       " 0.5251307067102824,\n",
       " 0.5139426092438814,\n",
       " 0.504683015601197,\n",
       " 0.4967134184537562,\n",
       " 0.48967484193559413,\n",
       " 0.4833438144819298,\n",
       " 0.477570928530059,\n",
       " 0.4722509913844299,\n",
       " 0.46730699636517686,\n",
       " 0.46268082354544127,\n",
       " 0.45832751076179157,\n",
       " 0.4542115519317428,\n",
       " 0.4503044102630744,\n",
       " 0.44658279211025365,\n",
       " 0.4430274155515355,\n",
       " 0.439622112616856,\n",
       " 0.4363531646218341,\n",
       " 0.4332088051787279,\n",
       " 0.430178845662294,\n",
       " 0.4272543900921822,\n",
       " 0.424427614905552,\n",
       " 0.42169159586249194,\n",
       " 0.4190401696830835,\n",
       " 0.4164678218954686,\n",
       " 0.41396959495181973,\n",
       " 0.4115410123168286,\n",
       " 0.40917801530806]"
      ]
     },
     "execution_count": 54,
     "metadata": {},
     "output_type": "execute_result"
    }
   ],
   "source": [
    "costs"
   ]
  },
  {
   "cell_type": "code",
   "execution_count": 55,
   "metadata": {},
   "outputs": [
    {
     "data": {
      "image/png": "[encoded data removed]",
      "text/plain": [
       "<Figure size 432x288 with 1 Axes>"
      ]
     },
     "metadata": {
      "needs_background": "light"
     },
     "output_type": "display_data"
    }
   ],
   "source": [
    "plt.plot(costs)\n",
    "plt.ylabel('cost')\n",
    "plt.xlabel('iterations (per hundreds)')\n",
    "plt.title('Cost reduction over time')\n",
    "plt.show()"
   ]
  },
  {
   "cell_type": "markdown",
   "metadata": {},
   "source": [
    "# Pytorch ANN - Multilayer perceptron with Evaluation 5 fold cross validation\n"
   ]
  },
  {
   "cell_type": "markdown",
   "metadata": {},
   "source": [
    "Code Referred from : https://machinelearningmastery.com/pytorch-tutorial-develop-deep-learning-models/"
   ]
  },
  {
   "cell_type": "code",
   "execution_count": 59,
   "metadata": {},
   "outputs": [
    {
     "name": "stdout",
     "output_type": "stream",
     "text": [
      "Requirement already satisfied: torch in c:\\users\\heera\\anaconda3\\lib\\site-packages (1.9.0)\n",
      "Requirement already satisfied: typing-extensions in c:\\users\\heera\\anaconda3\\lib\\site-packages (from torch) (3.7.4.3)\n"
     ]
    }
   ],
   "source": [
    "!pip install torch"
   ]
  },
  {
   "cell_type": "code",
   "execution_count": 60,
   "metadata": {},
   "outputs": [
    {
     "name": "stdout",
     "output_type": "stream",
     "text": [
      "Requirement already satisfied: torchvision in c:\\users\\heera\\anaconda3\\lib\\site-packages (0.10.0)\n",
      "Requirement already satisfied: pillow>=5.3.0 in c:\\users\\heera\\anaconda3\\lib\\site-packages (from torchvision) (8.0.1)\n",
      "Requirement already satisfied: torch==1.9.0 in c:\\users\\heera\\anaconda3\\lib\\site-packages (from torchvision) (1.9.0)\n",
      "Requirement already satisfied: numpy in c:\\users\\heera\\anaconda3\\lib\\site-packages (from torchvision) (1.19.2)\n",
      "Requirement already satisfied: typing-extensions in c:\\users\\heera\\anaconda3\\lib\\site-packages (from torch==1.9.0->torchvision) (3.7.4.3)\n"
     ]
    }
   ],
   "source": [
    "!pip install torchvision"
   ]
  },
  {
   "cell_type": "code",
   "execution_count": 61,
   "metadata": {},
   "outputs": [
    {
     "name": "stdout",
     "output_type": "stream",
     "text": [
      "1.9.0+cpu\n"
     ]
    }
   ],
   "source": [
    "\n",
    "# check pytorch version\n",
    "import torch\n",
    "print(torch.__version__)"
   ]
  },
  {
   "cell_type": "code",
   "execution_count": 62,
   "metadata": {},
   "outputs": [
    {
     "name": "stdout",
     "output_type": "stream",
     "text": [
      "288 73\n"
     ]
    },
    {
     "name": "stderr",
     "output_type": "stream",
     "text": [
      "C:\\Users\\heera\\anaconda3\\lib\\site-packages\\sklearn\\utils\\validation.py:67: FutureWarning: Pass shuffle=True, random_state=1 as keyword args. From version 0.25 passing these as positional arguments will result in an error\n",
      "  warnings.warn(\"Pass {} as keyword args. From version 0.25 \"\n"
     ]
    },
    {
     "name": "stdout",
     "output_type": "stream",
     "text": [
      "Train Accuracy: 0.510\n",
      "Test Accuracy: 0.452\n",
      "289 72\n",
      "Train Accuracy: 0.478\n",
      "Test Accuracy: 0.583\n",
      "289 72\n",
      "Train Accuracy: 0.516\n",
      "Test Accuracy: 0.431\n",
      "289 72\n",
      "Train Accuracy: 0.567\n",
      "Test Accuracy: 0.500\n",
      "289 72\n",
      "Train Accuracy: 0.512\n",
      "Test Accuracy: 0.444\n"
     ]
    }
   ],
   "source": [
    "# pytorch mlp for binary classification\n",
    "from numpy import vstack\n",
    "from pandas import read_csv\n",
    "from sklearn.preprocessing import LabelEncoder\n",
    "from sklearn.metrics import accuracy_score\n",
    "from torch.utils.data import Dataset\n",
    "from torch.utils.data import DataLoader\n",
    "from torch.utils.data import random_split\n",
    "from torch import Tensor\n",
    "from torch.nn import Linear\n",
    "from torch.nn import ReLU\n",
    "from torch.nn import Sigmoid\n",
    "from torch.nn import Module\n",
    "from torch.optim import SGD\n",
    "from torch.nn import BCELoss\n",
    "from torch.nn.init import kaiming_uniform_\n",
    "from torch.nn.init import xavier_uniform_\n",
    "from sklearn.model_selection import KFold\n",
    "\n",
    "# # dataset definition\n",
    "class CSVDataset(Dataset):\n",
    "    # load the dataset\n",
    "    def __init__(self, path):\n",
    "        # load the csv file as a dataframe\n",
    "        df = read_csv(path, header=None)\n",
    "        # store the inputs and outputs\n",
    "        self.X = df.values[:, :-1]\n",
    "        self.y = df.values[:, -1]\n",
    "        # ensure input data is floats\n",
    "        self.X = self.X.astype('float32')\n",
    "#        label encode target and ensure the values are floats\n",
    "        self.y = LabelEncoder().fit_transform(self.y)\n",
    "        self.y = self.y.astype('float32')\n",
    "        self.y = self.y.reshape((len(self.y), 1))\n",
    "\n",
    "    # number of rows in the dataset\n",
    "    def __len__(self):\n",
    "        return len(self.X)\n",
    "\n",
    "    # get a row at an index\n",
    "    def __getitem__(self, idx):\n",
    "        return [self.X[idx], self.y[idx]]\n",
    "\n",
    "    # get indexes for train and test rows\n",
    "  \n",
    "    def get_splits(self, n_test=0.30):\n",
    "    # determine sizes\n",
    "        test_size = round(n_test * len(self.X))\n",
    "        train_size = len(self.X) - test_size\n",
    "        # calculate the split\n",
    "        return random_split(self, [train_size, test_size])\n",
    "\n",
    "# model definition\n",
    "class MLP(Module):\n",
    "    # define model elements\n",
    "    def __init__(self, n_inputs):\n",
    "        super(MLP, self).__init__()\n",
    "        # input to first hidden layer\n",
    "        self.hidden1 = Linear(n_inputs, 10)\n",
    "        kaiming_uniform_(self.hidden1.weight, nonlinearity='relu')\n",
    "        self.act1 = ReLU()\n",
    "        # second hidden layer\n",
    "        self.hidden2 = Linear(10, 8)\n",
    "        kaiming_uniform_(self.hidden2.weight, nonlinearity='relu')\n",
    "        self.act2 = ReLU()\n",
    "        # third hidden layer and output\n",
    "        self.hidden3 = Linear(8, 1)\n",
    "        xavier_uniform_(self.hidden3.weight)\n",
    "        self.act3 = Sigmoid()\n",
    "\n",
    "    # forward propagate input\n",
    "    def forward(self, X):\n",
    "        # input to first hidden layer\n",
    "        X = self.hidden1(X)\n",
    "        X = self.act1(X)\n",
    "         # second hidden layer\n",
    "        X = self.hidden2(X)\n",
    "        X = self.act2(X)\n",
    "        # third hidden layer and output\n",
    "        X = self.hidden3(X)\n",
    "        X = self.act3(X)\n",
    "        return X\n",
    "\n",
    "# prepare the dataset\n",
    "def prepare_data(path):\n",
    "    # load the dataset\n",
    "    dataset = CSVDataset(path)\n",
    "    # calculate split\n",
    "    train, test = dataset.get_splits()\n",
    "    # prepare data loaders\n",
    "    train_dl = DataLoader(train, batch_size=32, shuffle=True)\n",
    "    test_dl = DataLoader(test, batch_size=1024, shuffle=False)\n",
    "    return train_dl, test_dl\n",
    "\n",
    "# train the model\n",
    "def train_model(train_dl, model):\n",
    "    # define the optimization\n",
    "    criterion = BCELoss()\n",
    "    optimizer = SGD(model.parameters(), lr=0.01, momentum=0.9)\n",
    "    # enumerate epochs\n",
    "    for epoch in range(100):\n",
    "        # enumerate mini batches\n",
    "        for i, (inputs, targets) in enumerate(train_dl):\n",
    "            # clear the gradients\n",
    "            optimizer.zero_grad()\n",
    "            # compute the model output\n",
    "            yhat = model(inputs)\n",
    "            # calculate loss\n",
    "            loss = criterion(yhat, targets)\n",
    "            # credit assignment\n",
    "            loss.backward()\n",
    "            # update model weights\n",
    "            optimizer.step()\n",
    "\n",
    "# evaluate the model\n",
    "def evaluate_model(test_dl, model):\n",
    "    predictions, actuals = list(), list()\n",
    "    for i, (inputs, targets) in enumerate(test_dl):\n",
    "        # evaluate the model on the test set\n",
    "        yhat = model(inputs)\n",
    "        # retrieve numpy array\n",
    "        yhat = yhat.detach().numpy()\n",
    "        actual = targets.numpy()\n",
    "        actual = actual.reshape((len(actual), 1))\n",
    "        # round to class values\n",
    "        yhat = yhat.round()\n",
    "        # store\n",
    "        predictions.append(yhat)\n",
    "        actuals.append(actual)\n",
    "    predictions, actuals = vstack(predictions), vstack(actuals)\n",
    "    # calculate accuracy\n",
    "    acc = accuracy_score(actuals, predictions)\n",
    "    return acc\n",
    "\n",
    "# make a class prediction for one row of data\n",
    "def predict(row, model):\n",
    "    # convert row to data\n",
    "    row = Tensor([row])\n",
    "    # make prediction\n",
    "    yhat = model(row)\n",
    "    # retrieve numpy array\n",
    "    yhat = yhat.detach().numpy()\n",
    "    return yhat\n",
    "\n",
    "# prepare the data\n",
    "# prepare the data\n",
    "path = 'reduced_features.csv'\n",
    "dataset = CSVDataset(path)\n",
    "\n",
    "kfold = KFold(5, True, 1)\n",
    "\n",
    "for fold, (train_ids, test_ids) in enumerate(kfold.split(dataset)):\n",
    "    train_set = torch.utils.data.dataset.Subset(dataset,train_ids)\n",
    "    test_set = torch.utils.data.dataset.Subset(dataset,test_ids)\n",
    "\n",
    "    train_dl = DataLoader(train_set, batch_size=50)\n",
    "    test_dl = DataLoader(test_set, batch_size=50)\n",
    "\n",
    "    print(len(train_dl.dataset), len(test_dl.dataset))\n",
    "    # define the network\n",
    "    model = MLP(496)\n",
    "    # train the model\n",
    "    train_model(train_dl, model)\n",
    "    # evaluate the model\n",
    "    acc = evaluate_model(test_dl, model)\n",
    "    train_acc = evaluate_model(train_dl, model)\n",
    "    print('Train Accuracy: %.3f' % train_acc)\n",
    "    print('Test Accuracy: %.3f' % acc)\n",
    "  "
   ]
  },
  {
   "cell_type": "code",
   "execution_count": null,
   "metadata": {},
   "outputs": [],
   "source": []
  }
 ],
 "metadata": {
  "kernelspec": {
   "display_name": "Python 3",
   "language": "python",
   "name": "python3"
  },
  "language_info": {
   "codemirror_mode": {
    "name": "ipython",
    "version": 3
   },
   "file_extension": ".py",
   "mimetype": "text/x-python",
   "name": "python",
   "nbconvert_exporter": "python",
   "pygments_lexer": "ipython3",
   "version": "3.8.5"
  }
 },
 "nbformat": 4,
 "nbformat_minor": 4
}
